{
 "cells": [
  {
   "cell_type": "code",
   "execution_count": 11,
   "id": "8733f635",
   "metadata": {},
   "outputs": [],
   "source": [
    "import pandas as pd\n",
    "from sklearn.model_selection import train_test_split\n",
    "from sklearn.preprocessing import StandardScaler\n"
   ]
  },
  {
   "cell_type": "code",
   "execution_count": 12,
   "id": "3856f307",
   "metadata": {},
   "outputs": [],
   "source": [
    "df = pd.read_csv(\"wine.data.csv\")\n",
    "\n",
    "X = df.drop(\"Class\", axis=1)\n",
    "y = df[\"Class\"]"
   ]
  },
  {
   "cell_type": "code",
   "execution_count": 13,
   "id": "88639776",
   "metadata": {},
   "outputs": [
    {
     "name": "stdout",
     "output_type": "stream",
     "text": [
      "Class                           0\n",
      "Alcohol                         0\n",
      "Malic acid                      0\n",
      "Ash                             0\n",
      "Alcalinity of ash               0\n",
      "Magnesium                       0\n",
      "Total phenols                   0\n",
      "Flavanoids                      0\n",
      "Nonflavanoid phenols            0\n",
      "Proanthocyanins                 0\n",
      "Color intensity                 0\n",
      "Hue                             0\n",
      "OD280/OD315 of diluted wines    0\n",
      "Proline                         0\n",
      "dtype: int64\n"
     ]
    }
   ],
   "source": [
    "null_values = df.isnull().sum()\n",
    "print(null_values)"
   ]
  },
  {
   "cell_type": "code",
   "execution_count": 14,
   "id": "d0982f4d",
   "metadata": {},
   "outputs": [],
   "source": [
    "from sklearn.preprocessing import LabelEncoder"
   ]
  },
  {
   "cell_type": "code",
   "execution_count": 15,
   "id": "0a80efa5",
   "metadata": {},
   "outputs": [
    {
     "name": "stdout",
     "output_type": "stream",
     "text": [
      "Unique classes in the target variable: [1 2 3]\n",
      "Number of unique classes: 3\n"
     ]
    }
   ],
   "source": [
    "unique_classes = y.unique()\n",
    "print(f\"Unique classes in the target variable: {unique_classes}\")\n",
    "print(f\"Number of unique classes: {len(unique_classes)}\")"
   ]
  },
  {
   "cell_type": "code",
   "execution_count": 16,
   "id": "79ba9fee",
   "metadata": {},
   "outputs": [
    {
     "name": "stdout",
     "output_type": "stream",
     "text": [
      "Encoded target values: [0 0 0 0 0 0 0 0 0 0]\n"
     ]
    }
   ],
   "source": [
    "encoder = LabelEncoder()\n",
    "\n",
    "\n",
    "y_encoded = encoder.fit_transform(y)\n",
    "\n",
    "\n",
    "print(f\"Encoded target values: {y_encoded[:10]}\")  "
   ]
  },
  {
   "cell_type": "code",
   "execution_count": 10,
   "id": "7a7cc746",
   "metadata": {},
   "outputs": [
    {
     "name": "stdout",
     "output_type": "stream",
     "text": [
      "     Alcohol  Malic acid   Ash  Alcalinity of ash  Magnesium  Total phenols  \\\n",
      "19     13.64        3.10  2.56               15.2        116           2.70   \n",
      "45     14.21        4.04  2.44               18.9        111           2.85   \n",
      "140    12.93        2.81  2.70               21.0         96           1.54   \n",
      "30     13.73        1.50  2.70               22.5        101           3.00   \n",
      "67     12.37        1.17  1.92               19.6         78           2.11   \n",
      "\n",
      "     Flavanoids  Nonflavanoid phenols  Proanthocyanins  Color intensity   Hue  \\\n",
      "19         3.03                  0.17             1.66             5.10  0.96   \n",
      "45         2.65                  0.30             1.25             5.24  0.87   \n",
      "140        0.50                  0.53             0.75             4.60  0.77   \n",
      "30         3.25                  0.29             2.38             5.70  1.19   \n",
      "67         2.00                  0.27             1.04             4.68  1.12   \n",
      "\n",
      "     OD280/OD315 of diluted wines  Proline  \n",
      "19                           3.36      845  \n",
      "45                           3.33     1080  \n",
      "140                          2.31      600  \n",
      "30                           2.71     1285  \n",
      "67                           3.48      510  \n",
      "[0 0 2 0 1 0 1 2 1 2]\n"
     ]
    }
   ],
   "source": [
    "\n",
    "from sklearn.utils import shuffle\n",
    "\n",
    "X_shuffled, y_shuffled = shuffle(X, y_encoded, random_state=42)\n",
    "\n",
    "print(X_shuffled.head())\n",
    "print(y_shuffled[:10]) \n"
   ]
  },
  {
   "cell_type": "code",
   "execution_count": 20,
   "id": "34d68870",
   "metadata": {},
   "outputs": [
    {
     "name": "stdout",
     "output_type": "stream",
     "text": [
      "Training data shape: (142, 6)\n",
      "Test data shape: (36, 6)\n"
     ]
    }
   ],
   "source": [
    "from sklearn.model_selection import train_test_split\n",
    "from sklearn.preprocessing import StandardScaler\n",
    "\n",
    "\n",
    "selected_features = ['Alcohol', 'Malic acid', 'Ash', 'Magnesium', 'Total phenols', 'Flavanoids']\n",
    "X = df[selected_features]  \n",
    "\n",
    "X_train, X_test, y_train, y_test = train_test_split(X, y, test_size=0.2, random_state=42)\n",
    "\n",
    "\n",
    "scaler = StandardScaler()\n",
    "X_train_scaled = scaler.fit_transform(X_train) \n",
    "X_test_scaled = scaler.transform(X_test)       \n",
    "\n",
    "\n",
    "print(f\"Training data shape: {X_train_scaled.shape}\")\n",
    "print(f\"Test data shape: {X_test_scaled.shape}\")\n"
   ]
  },
  {
   "cell_type": "code",
   "execution_count": 22,
   "id": "1dd0b118",
   "metadata": {},
   "outputs": [
    {
     "name": "stdout",
     "output_type": "stream",
     "text": [
      "Accuracy: 0.9444\n",
      "\n",
      "Classification Report:\n",
      "              precision    recall  f1-score   support\n",
      "\n",
      "           1       1.00      0.93      0.96        14\n",
      "           2       0.93      0.93      0.93        14\n",
      "           3       0.89      1.00      0.94         8\n",
      "\n",
      "    accuracy                           0.94        36\n",
      "   macro avg       0.94      0.95      0.94        36\n",
      "weighted avg       0.95      0.94      0.94        36\n",
      "\n",
      "\n",
      "Confusion Matrix:\n",
      "[[13  1  0]\n",
      " [ 0 13  1]\n",
      " [ 0  0  8]]\n"
     ]
    }
   ],
   "source": [
    "\n",
    "from sklearn.neighbors import KNeighborsClassifier\n",
    "from sklearn.metrics import accuracy_score, classification_report, confusion_matrix\n",
    "\n",
    "\n",
    "knn = KNeighborsClassifier(n_neighbors=5) \n",
    "\n",
    "knn.fit(X_train_scaled, y_train)\n",
    "\n",
    "\n",
    "y_pred = knn.predict(X_test_scaled)\n",
    "\n",
    "\n",
    "accuracy = accuracy_score(y_test, y_pred)\n",
    "print(f\"Accuracy: {accuracy:.4f}\")\n",
    "\n",
    "print(\"\\nClassification Report:\")\n",
    "print(classification_report(y_test, y_pred))\n",
    "\n",
    "print(\"\\nConfusion Matrix:\")\n",
    "print(confusion_matrix(y_test, y_pred))\n"
   ]
  },
  {
   "cell_type": "code",
   "execution_count": 23,
   "id": "464f5599",
   "metadata": {},
   "outputs": [],
   "source": [
    "import joblib"
   ]
  },
  {
   "cell_type": "code",
   "execution_count": 24,
   "id": "dee82bab",
   "metadata": {},
   "outputs": [
    {
     "name": "stdout",
     "output_type": "stream",
     "text": [
      "Model and scaler have been saved successfully!\n"
     ]
    }
   ],
   "source": [
    "\n",
    "# Save the trained model and scaler\n",
    "joblib.dump(knn, 'knn_wine_quality_model.joblib')\n",
    "joblib.dump(scaler, 'scaler.joblib')\n",
    "\n",
    "print(\"Model and scaler have been saved successfully!\")"
   ]
  },
  {
   "cell_type": "code",
   "execution_count": null,
   "id": "8054b393",
   "metadata": {},
   "outputs": [],
   "source": []
  }
 ],
 "metadata": {
  "kernelspec": {
   "display_name": "Python 3",
   "language": "python",
   "name": "python3"
  },
  "language_info": {
   "codemirror_mode": {
    "name": "ipython",
    "version": 3
   },
   "file_extension": ".py",
   "mimetype": "text/x-python",
   "name": "python",
   "nbconvert_exporter": "python",
   "pygments_lexer": "ipython3",
   "version": "3.10.0"
  }
 },
 "nbformat": 4,
 "nbformat_minor": 5
}
